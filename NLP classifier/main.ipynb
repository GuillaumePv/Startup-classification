{
 "cells": [
  {
   "cell_type": "markdown",
   "metadata": {},
   "source": [
    "https://towardsdatascience.com/text-classification-with-nlp-tf-idf-vs-word2vec-vs-bert-41ff868d1794"
   ]
  },
  {
   "cell_type": "code",
   "execution_count": 29,
   "metadata": {},
   "outputs": [
    {
     "name": "stderr",
     "output_type": "stream",
     "text": [
      "[nltk_data] Downloading package wordnet to\n",
      "[nltk_data]     C:\\Users\\gpave\\AppData\\Roaming\\nltk_data...\n",
      "[nltk_data]   Package wordnet is already up-to-date!\n",
      "[nltk_data] Downloading package omw-1.4 to\n",
      "[nltk_data]     C:\\Users\\gpave\\AppData\\Roaming\\nltk_data...\n",
      "[nltk_data]   Package omw-1.4 is already up-to-date!\n"
     ]
    }
   ],
   "source": [
    "## for data\n",
    "import json\n",
    "import pandas as pd\n",
    "import numpy as np\n",
    "## for plotting\n",
    "import matplotlib.pyplot as plt\n",
    "import seaborn as sns\n",
    "## for processing\n",
    "import re\n",
    "import nltk\n",
    "nltk.download('wordnet')\n",
    "nltk.download('omw-1.4')\n",
    "## for bag-of-words\n",
    "from sklearn import feature_extraction, model_selection, feature_selection, naive_bayes, pipeline, metrics, manifold, preprocessing\n",
    "## for explainer\n",
    "from lime import lime_text\n",
    "## for word embedding\n",
    "import gensim\n",
    "import gensim.downloader as gensim_api\n",
    "## for deep learning\n",
    "from tensorflow.keras import models, layers, preprocessing as kprocessing\n",
    "from tensorflow.keras import backend as K\n",
    "## for bert language model\n",
    "import transformers"
   ]
  },
  {
   "cell_type": "code",
   "execution_count": 7,
   "metadata": {},
   "outputs": [
    {
     "data": {
      "text/html": [
       "<div>\n",
       "<style scoped>\n",
       "    .dataframe tbody tr th:only-of-type {\n",
       "        vertical-align: middle;\n",
       "    }\n",
       "\n",
       "    .dataframe tbody tr th {\n",
       "        vertical-align: top;\n",
       "    }\n",
       "\n",
       "    .dataframe thead th {\n",
       "        text-align: right;\n",
       "    }\n",
       "</style>\n",
       "<table border=\"1\" class=\"dataframe\">\n",
       "  <thead>\n",
       "    <tr style=\"text-align: right;\">\n",
       "      <th></th>\n",
       "      <th>site</th>\n",
       "      <th>classification</th>\n",
       "      <th>text</th>\n",
       "    </tr>\n",
       "  </thead>\n",
       "  <tbody>\n",
       "    <tr>\n",
       "      <th>0</th>\n",
       "      <td>www.1upcapital.co</td>\n",
       "      <td>B2B</td>\n",
       "      <td>Capital 0 Skip to Content How it works Benefit...</td>\n",
       "    </tr>\n",
       "    <tr>\n",
       "      <th>1</th>\n",
       "      <td>www.42lines.net</td>\n",
       "      <td>B2B</td>\n",
       "      <td>Leaders in Cloud Services and Custom Learning ...</td>\n",
       "    </tr>\n",
       "    <tr>\n",
       "      <th>2</th>\n",
       "      <td>www.48web.com</td>\n",
       "      <td>B2B</td>\n",
       "      <td>48Web - Digital Strategy, Development, and Con...</td>\n",
       "    </tr>\n",
       "    <tr>\n",
       "      <th>3</th>\n",
       "      <td>www.5thcolumn.net</td>\n",
       "      <td>B2B</td>\n",
       "      <td>UncommonX | Unified Cybersecurity Experiencing...</td>\n",
       "    </tr>\n",
       "    <tr>\n",
       "      <th>4</th>\n",
       "      <td>www.9xlabs.com</td>\n",
       "      <td>B2B</td>\n",
       "      <td>Welcome | Labs Home About Service Solutions Co...</td>\n",
       "    </tr>\n",
       "  </tbody>\n",
       "</table>\n",
       "</div>"
      ],
      "text/plain": [
       "                site classification  \\\n",
       "0  www.1upcapital.co            B2B   \n",
       "1    www.42lines.net            B2B   \n",
       "2      www.48web.com            B2B   \n",
       "3  www.5thcolumn.net            B2B   \n",
       "4     www.9xlabs.com            B2B   \n",
       "\n",
       "                                                text  \n",
       "0  Capital 0 Skip to Content How it works Benefit...  \n",
       "1  Leaders in Cloud Services and Custom Learning ...  \n",
       "2  48Web - Digital Strategy, Development, and Con...  \n",
       "3  UncommonX | Unified Cybersecurity Experiencing...  \n",
       "4  Welcome | Labs Home About Service Solutions Co...  "
      ]
     },
     "execution_count": 7,
     "metadata": {},
     "output_type": "execute_result"
    }
   ],
   "source": [
    "## create dtf\n",
    "df = pd.read_csv(\"train_data.csv\", sep=',', header=0, encoding = \"ISO-8859-1\")\n",
    "df = df.iloc[:, 1:4]\n",
    "df.columns = ['site', 'classification', 'text']\n",
    "df.head(5)"
   ]
  },
  {
   "cell_type": "code",
   "execution_count": 8,
   "metadata": {},
   "outputs": [
    {
     "data": {
      "image/png": "[encoded data removed]",
      "text/plain": [
       "<Figure size 432x288 with 1 Axes>"
      ]
     },
     "metadata": {
      "needs_background": "light"
     },
     "output_type": "display_data"
    }
   ],
   "source": [
    "fig, ax = plt.subplots()\n",
    "fig.suptitle(\"classification\", fontsize=12)\n",
    "df[\"classification\"].reset_index().groupby(\"classification\").count().sort_values(by= \n",
    "       \"index\").plot(kind=\"barh\", legend=False, \n",
    "        ax=ax).grid(axis='x')\n",
    "plt.show()"
   ]
  },
  {
   "cell_type": "code",
   "execution_count": 9,
   "metadata": {},
   "outputs": [],
   "source": [
    "'''\n",
    "Preprocess a string.\n",
    ":parameter\n",
    "    :param text: string - name of column containing text\n",
    "    :param lst_stopwords: list - list of stopwords to remove\n",
    "    :param flg_stemm: bool - whether stemming is to be applied\n",
    "    :param flg_lemm: bool - whether lemmitisation is to be applied\n",
    ":return\n",
    "    cleaned text\n",
    "'''\n",
    "def utils_preprocess_text(text, flg_stemm=False, flg_lemm=True, lst_stopwords=None):\n",
    "    ## clean (convert to lowercase and remove punctuations and  characters and then strip)\n",
    "    text = re.sub(r'[^\\w\\s]', '', str(text).lower().strip())\n",
    "            \n",
    "    ## Tokenize (convert from string to list)\n",
    "    lst_text = text.split()\n",
    "    ## remove Stopwords\n",
    "    if lst_stopwords is not None:\n",
    "        lst_text = [word for word in lst_text if word not in \n",
    "                    lst_stopwords]\n",
    "                \n",
    "    ## Stemming (remove -ing, -ly, ...)\n",
    "    if flg_stemm == True:\n",
    "        ps = nltk.stem.porter.PorterStemmer()\n",
    "        lst_text = [ps.stem(word) for word in lst_text]\n",
    "                \n",
    "    ## Lemmatisation (convert the word into root word)\n",
    "    if flg_lemm == True:\n",
    "        lem = nltk.stem.wordnet.WordNetLemmatizer()\n",
    "        lst_text = [lem.lemmatize(word) for word in lst_text]\n",
    "            \n",
    "    ## back to string from list\n",
    "    text = \" \".join(lst_text)\n",
    "    return text"
   ]
  },
  {
   "cell_type": "code",
   "execution_count": null,
   "metadata": {},
   "outputs": [],
   "source": [
    "lst_stopwords = nltk.corpus.stopwords.words(\"english\")\n",
    "lst_stopwords"
   ]
  },
  {
   "cell_type": "code",
   "execution_count": 15,
   "metadata": {},
   "outputs": [
    {
     "data": {
      "text/html": [
       "<div>\n",
       "<style scoped>\n",
       "    .dataframe tbody tr th:only-of-type {\n",
       "        vertical-align: middle;\n",
       "    }\n",
       "\n",
       "    .dataframe tbody tr th {\n",
       "        vertical-align: top;\n",
       "    }\n",
       "\n",
       "    .dataframe thead th {\n",
       "        text-align: right;\n",
       "    }\n",
       "</style>\n",
       "<table border=\"1\" class=\"dataframe\">\n",
       "  <thead>\n",
       "    <tr style=\"text-align: right;\">\n",
       "      <th></th>\n",
       "      <th>site</th>\n",
       "      <th>classification</th>\n",
       "      <th>text</th>\n",
       "      <th>text_clean</th>\n",
       "    </tr>\n",
       "  </thead>\n",
       "  <tbody>\n",
       "    <tr>\n",
       "      <th>0</th>\n",
       "      <td>www.1upcapital.co</td>\n",
       "      <td>B2B</td>\n",
       "      <td>Capital 0 Skip to Content How it works Benefit...</td>\n",
       "      <td>capital 0 skip content work benefit calculator...</td>\n",
       "    </tr>\n",
       "    <tr>\n",
       "      <th>1</th>\n",
       "      <td>www.42lines.net</td>\n",
       "      <td>B2B</td>\n",
       "      <td>Leaders in Cloud Services and Custom Learning ...</td>\n",
       "      <td>leader cloud service custom learning software ...</td>\n",
       "    </tr>\n",
       "    <tr>\n",
       "      <th>2</th>\n",
       "      <td>www.48web.com</td>\n",
       "      <td>B2B</td>\n",
       "      <td>48Web - Digital Strategy, Development, and Con...</td>\n",
       "      <td>48web digital strategy development consulting ...</td>\n",
       "    </tr>\n",
       "    <tr>\n",
       "      <th>3</th>\n",
       "      <td>www.5thcolumn.net</td>\n",
       "      <td>B2B</td>\n",
       "      <td>UncommonX | Unified Cybersecurity Experiencing...</td>\n",
       "      <td>uncommonx unified cybersecurity experiencing a...</td>\n",
       "    </tr>\n",
       "    <tr>\n",
       "      <th>4</th>\n",
       "      <td>www.9xlabs.com</td>\n",
       "      <td>B2B</td>\n",
       "      <td>Welcome | Labs Home About Service Solutions Co...</td>\n",
       "      <td>welcome lab home service solution contact prov...</td>\n",
       "    </tr>\n",
       "  </tbody>\n",
       "</table>\n",
       "</div>"
      ],
      "text/plain": [
       "                site classification  \\\n",
       "0  www.1upcapital.co            B2B   \n",
       "1    www.42lines.net            B2B   \n",
       "2      www.48web.com            B2B   \n",
       "3  www.5thcolumn.net            B2B   \n",
       "4     www.9xlabs.com            B2B   \n",
       "\n",
       "                                                text  \\\n",
       "0  Capital 0 Skip to Content How it works Benefit...   \n",
       "1  Leaders in Cloud Services and Custom Learning ...   \n",
       "2  48Web - Digital Strategy, Development, and Con...   \n",
       "3  UncommonX | Unified Cybersecurity Experiencing...   \n",
       "4  Welcome | Labs Home About Service Solutions Co...   \n",
       "\n",
       "                                          text_clean  \n",
       "0  capital 0 skip content work benefit calculator...  \n",
       "1  leader cloud service custom learning software ...  \n",
       "2  48web digital strategy development consulting ...  \n",
       "3  uncommonx unified cybersecurity experiencing a...  \n",
       "4  welcome lab home service solution contact prov...  "
      ]
     },
     "execution_count": 15,
     "metadata": {},
     "output_type": "execute_result"
    }
   ],
   "source": [
    "df[\"text_clean\"] = df[\"text\"].apply(lambda x: \n",
    "          utils_preprocess_text(x, flg_stemm=False, flg_lemm=True, \n",
    "          lst_stopwords=lst_stopwords))\n",
    "df.head()"
   ]
  },
  {
   "cell_type": "code",
   "execution_count": 16,
   "metadata": {},
   "outputs": [],
   "source": [
    "## split dataset\n",
    "df_train, df_test = model_selection.train_test_split(df, test_size=0.3)\n",
    "## get target\n",
    "y_train = df_train[\"classification\"].values\n",
    "y_test = df_test[\"classification\"].values"
   ]
  },
  {
   "cell_type": "code",
   "execution_count": 17,
   "metadata": {},
   "outputs": [],
   "source": [
    "## Count (classic BoW)\n",
    "vectorizer = feature_extraction.text.CountVectorizer(max_features=10000, ngram_range=(1,2))\n",
    "\n",
    "## Tf-Idf (advanced variant of BoW)\n",
    "vectorizer = feature_extraction.text.TfidfVectorizer(max_features=10000, ngram_range=(1,2))"
   ]
  },
  {
   "cell_type": "code",
   "execution_count": 18,
   "metadata": {},
   "outputs": [],
   "source": [
    "corpus = df_train[\"text_clean\"]\n",
    "vectorizer.fit(corpus)\n",
    "X_train = vectorizer.transform(corpus)\n",
    "dic_vocabulary = vectorizer.vocabulary_"
   ]
  },
  {
   "cell_type": "code",
   "execution_count": 20,
   "metadata": {},
   "outputs": [
    {
     "data": {
      "text/plain": [
       "Text(0.5, 1.0, 'Sparse Matrix Sample')"
      ]
     },
     "execution_count": 20,
     "metadata": {},
     "output_type": "execute_result"
    },
    {
     "data": {
      "image/png": "[encoded data removed]",
      "text/plain": [
       "<Figure size 432x288 with 1 Axes>"
      ]
     },
     "metadata": {
      "needs_background": "light"
     },
     "output_type": "display_data"
    }
   ],
   "source": [
    "sns.heatmap(X_train.todense()[:,np.random.randint(0,X_train.shape[1],100)]==0, vmin=0, vmax=1, cbar=False).set_title('Sparse Matrix Sample')"
   ]
  },
  {
   "cell_type": "code",
   "execution_count": 24,
   "metadata": {},
   "outputs": [
    {
     "name": "stderr",
     "output_type": "stream",
     "text": [
      "c:\\python_project\\ai_specialization\\venv\\lib\\site-packages\\sklearn\\utils\\deprecation.py:87: FutureWarning: Function get_feature_names is deprecated; get_feature_names is deprecated in 1.0 and will be removed in 1.2. Please use get_feature_names_out instead.\n",
      "  warnings.warn(msg, category=FutureWarning)\n"
     ]
    }
   ],
   "source": [
    "y = df_train[\"classification\"]\n",
    "X_names = vectorizer.get_feature_names()\n",
    "p_value_limit = 0.95\n",
    "dtf_features = pd.DataFrame()\n",
    "for cat in np.unique(y):\n",
    "    chi2, p = feature_selection.chi2(X_train, y==cat)\n",
    "    dtf_features = dtf_features.append(pd.DataFrame(\n",
    "                   {\"feature\":X_names, \"score\":1-p, \"classification\":cat}))\n",
    "    dtf_features = dtf_features.sort_values([\"classification\",\"score\"], \n",
    "                    ascending=[True,False])\n",
    "    dtf_features = dtf_features[dtf_features[\"score\"]>p_value_limit]\n",
    "X_names = dtf_features[\"feature\"].unique().tolist()"
   ]
  },
  {
   "cell_type": "code",
   "execution_count": 26,
   "metadata": {},
   "outputs": [
    {
     "name": "stdout",
     "output_type": "stream",
     "text": [
      "# B2B:\n",
      "  . selected features: 4\n",
      "  . top features: solution,cloud,software,business\n",
      " \n",
      "# B2C:\n",
      "  . selected features: 1\n",
      "  . top features: hotel\n",
      " \n",
      "# OPEN:\n",
      "  . selected features: 23\n",
      "  . top features: github,python,github page,open source,freecol,aadl,imp,semux,erpnext,sila\n",
      " \n",
      "# OTHER:\n",
      "  . selected features: 7\n",
      "  . top features: hammock,shrine,occidental,varnish,fail2ban,ifes,homestead\n",
      " \n"
     ]
    }
   ],
   "source": [
    "for cat in np.unique(y):\n",
    "   print(\"# {}:\".format(cat))\n",
    "   print(\"  . selected features:\",\n",
    "         len(dtf_features[dtf_features[\"classification\"]==cat]))\n",
    "   print(\"  . top features:\", \",\".join(\n",
    "dtf_features[dtf_features[\"classification\"]==cat][\"feature\"].values[:10]))\n",
    "   print(\" \")"
   ]
  },
  {
   "cell_type": "code",
   "execution_count": 27,
   "metadata": {},
   "outputs": [],
   "source": [
    "vectorizer = feature_extraction.text.TfidfVectorizer(vocabulary=X_names)\n",
    "vectorizer.fit(corpus)\n",
    "X_train = vectorizer.transform(corpus)\n",
    "dic_vocabulary = vectorizer.vocabulary_"
   ]
  },
  {
   "cell_type": "code",
   "execution_count": 28,
   "metadata": {},
   "outputs": [],
   "source": [
    "classifier = naive_bayes.MultinomialNB()\n",
    "\n",
    "## pipeline\n",
    "model = pipeline.Pipeline([(\"vectorizer\", vectorizer),  \n",
    "                           (\"classifier\", classifier)])\n",
    "## train classifier\n",
    "model[\"classifier\"].fit(X_train, y_train)\n",
    "## test\n",
    "X_test = df_test[\"text_clean\"].values\n",
    "predicted = model.predict(X_test)\n",
    "predicted_prob = model.predict_proba(X_test)"
   ]
  },
  {
   "cell_type": "code",
   "execution_count": 34,
   "metadata": {},
   "outputs": [
    {
     "name": "stdout",
     "output_type": "stream",
     "text": [
      "Accuracy: 0.51\n",
      "Detail:\n",
      "              precision    recall  f1-score   support\n",
      "\n",
      "         B2B       0.53      0.95      0.68       120\n",
      "         B2C       0.35      0.12      0.18        67\n",
      "     B2C/B2B       0.00      0.00      0.00         1\n",
      "        OPEN       0.52      0.34      0.41        47\n",
      "       OTHER       0.00      0.00      0.00        35\n",
      "\n",
      "    accuracy                           0.51       270\n",
      "   macro avg       0.28      0.28      0.25       270\n",
      "weighted avg       0.41      0.51      0.42       270\n",
      "\n"
     ]
    },
    {
     "name": "stderr",
     "output_type": "stream",
     "text": [
      "c:\\python_project\\ai_specialization\\venv\\lib\\site-packages\\sklearn\\metrics\\_classification.py:1318: UndefinedMetricWarning: Precision and F-score are ill-defined and being set to 0.0 in labels with no predicted samples. Use `zero_division` parameter to control this behavior.\n",
      "  _warn_prf(average, modifier, msg_start, len(result))\n",
      "c:\\python_project\\ai_specialization\\venv\\lib\\site-packages\\sklearn\\metrics\\_classification.py:1318: UndefinedMetricWarning: Precision and F-score are ill-defined and being set to 0.0 in labels with no predicted samples. Use `zero_division` parameter to control this behavior.\n",
      "  _warn_prf(average, modifier, msg_start, len(result))\n",
      "c:\\python_project\\ai_specialization\\venv\\lib\\site-packages\\sklearn\\metrics\\_classification.py:1318: UndefinedMetricWarning: Precision and F-score are ill-defined and being set to 0.0 in labels with no predicted samples. Use `zero_division` parameter to control this behavior.\n",
      "  _warn_prf(average, modifier, msg_start, len(result))\n"
     ]
    },
    {
     "ename": "IndexError",
     "evalue": "index 4 is out of bounds for axis 1 with size 4",
     "output_type": "error",
     "traceback": [
      "\u001b[1;31m---------------------------------------------------------------------------\u001b[0m",
      "\u001b[1;31mIndexError\u001b[0m                                Traceback (most recent call last)",
      "\u001b[1;32mc:\\python_project\\ai_specialization\\NLP classifier\\main.ipynb Cell 16'\u001b[0m in \u001b[0;36m<module>\u001b[1;34m\u001b[0m\n\u001b[0;32m     <a href='vscode-notebook-cell:/c%3A/python_project/ai_specialization/NLP%20classifier/main.ipynb#ch0000014?line=23'>24</a>\u001b[0m \u001b[39m## Plot roc\u001b[39;00m\n\u001b[0;32m     <a href='vscode-notebook-cell:/c%3A/python_project/ai_specialization/NLP%20classifier/main.ipynb#ch0000014?line=24'>25</a>\u001b[0m \u001b[39m# for i in range(len(classes)):\u001b[39;00m\n\u001b[0;32m     <a href='vscode-notebook-cell:/c%3A/python_project/ai_specialization/NLP%20classifier/main.ipynb#ch0000014?line=25'>26</a>\u001b[0m \u001b[39m#     fpr, tpr, thresholds = metrics.roc_curve(y_test_array[:,i],  \u001b[39;00m\n\u001b[1;32m   (...)\u001b[0m\n\u001b[0;32m     <a href='vscode-notebook-cell:/c%3A/python_project/ai_specialization/NLP%20classifier/main.ipynb#ch0000014?line=38'>39</a>\u001b[0m     \n\u001b[0;32m     <a href='vscode-notebook-cell:/c%3A/python_project/ai_specialization/NLP%20classifier/main.ipynb#ch0000014?line=39'>40</a>\u001b[0m \u001b[39m## Plot precision-recall curve\u001b[39;00m\n\u001b[0;32m     <a href='vscode-notebook-cell:/c%3A/python_project/ai_specialization/NLP%20classifier/main.ipynb#ch0000014?line=40'>41</a>\u001b[0m \u001b[39mfor\u001b[39;00m i \u001b[39min\u001b[39;00m \u001b[39mrange\u001b[39m(\u001b[39mlen\u001b[39m(classes)):\n\u001b[0;32m     <a href='vscode-notebook-cell:/c%3A/python_project/ai_specialization/NLP%20classifier/main.ipynb#ch0000014?line=41'>42</a>\u001b[0m     precision, recall, thresholds \u001b[39m=\u001b[39m metrics\u001b[39m.\u001b[39mprecision_recall_curve(\n\u001b[1;32m---> <a href='vscode-notebook-cell:/c%3A/python_project/ai_specialization/NLP%20classifier/main.ipynb#ch0000014?line=42'>43</a>\u001b[0m                  y_test_array[:,i], predicted_prob[:,i])\n\u001b[0;32m     <a href='vscode-notebook-cell:/c%3A/python_project/ai_specialization/NLP%20classifier/main.ipynb#ch0000014?line=43'>44</a>\u001b[0m     ax[\u001b[39m1\u001b[39m]\u001b[39m.\u001b[39mplot(recall, precision, lw\u001b[39m=\u001b[39m\u001b[39m3\u001b[39m, \n\u001b[0;32m     <a href='vscode-notebook-cell:/c%3A/python_project/ai_specialization/NLP%20classifier/main.ipynb#ch0000014?line=44'>45</a>\u001b[0m                label\u001b[39m=\u001b[39m\u001b[39m'\u001b[39m\u001b[39m{0}\u001b[39;00m\u001b[39m (area=\u001b[39m\u001b[39m{1:0.2f}\u001b[39;00m\u001b[39m)\u001b[39m\u001b[39m'\u001b[39m\u001b[39m.\u001b[39mformat(classes[i], \n\u001b[0;32m     <a href='vscode-notebook-cell:/c%3A/python_project/ai_specialization/NLP%20classifier/main.ipynb#ch0000014?line=45'>46</a>\u001b[0m                                   metrics\u001b[39m.\u001b[39mauc(recall, precision))\n\u001b[0;32m     <a href='vscode-notebook-cell:/c%3A/python_project/ai_specialization/NLP%20classifier/main.ipynb#ch0000014?line=46'>47</a>\u001b[0m               )\n\u001b[0;32m     <a href='vscode-notebook-cell:/c%3A/python_project/ai_specialization/NLP%20classifier/main.ipynb#ch0000014?line=47'>48</a>\u001b[0m ax[\u001b[39m1\u001b[39m]\u001b[39m.\u001b[39mset(xlim\u001b[39m=\u001b[39m[\u001b[39m0.0\u001b[39m,\u001b[39m1.05\u001b[39m], ylim\u001b[39m=\u001b[39m[\u001b[39m0.0\u001b[39m,\u001b[39m1.05\u001b[39m], xlabel\u001b[39m=\u001b[39m\u001b[39m'\u001b[39m\u001b[39mRecall\u001b[39m\u001b[39m'\u001b[39m, \n\u001b[0;32m     <a href='vscode-notebook-cell:/c%3A/python_project/ai_specialization/NLP%20classifier/main.ipynb#ch0000014?line=48'>49</a>\u001b[0m           ylabel\u001b[39m=\u001b[39m\u001b[39m\"\u001b[39m\u001b[39mPrecision\u001b[39m\u001b[39m\"\u001b[39m, title\u001b[39m=\u001b[39m\u001b[39m\"\u001b[39m\u001b[39mPrecision-Recall curve\u001b[39m\u001b[39m\"\u001b[39m)\n",
      "\u001b[1;31mIndexError\u001b[0m: index 4 is out of bounds for axis 1 with size 4"
     ]
    },
    {
     "data": {
      "image/png": "[encoded data removed]",
      "text/plain": [
       "<Figure size 432x288 with 1 Axes>"
      ]
     },
     "metadata": {
      "needs_background": "light"
     },
     "output_type": "display_data"
    },
    {
     "data": {
      "image/png": "[encoded data removed]",
      "text/plain": [
       "<Figure size 432x288 with 2 Axes>"
      ]
     },
     "metadata": {
      "needs_background": "light"
     },
     "output_type": "display_data"
    }
   ],
   "source": [
    "classes = np.unique(y_test)\n",
    "y_test_array = pd.get_dummies(y_test, drop_first=False).values\n",
    "    \n",
    "## Accuracy, Precision, Recall\n",
    "accuracy = metrics.accuracy_score(y_test, predicted)\n",
    "print(\"Accuracy:\",  round(accuracy,2))\n",
    "# auc = metrics.roc_auc_score(y_test, predicted_prob, \n",
    "#                             multi_class=\"ovr\")\n",
    "\n",
    "# print(\"Auc:\", round(auc,2))\n",
    "print(\"Detail:\")\n",
    "print(metrics.classification_report(y_test, predicted))\n",
    "    \n",
    "## Plot confusion matrix\n",
    "cm = metrics.confusion_matrix(y_test, predicted)\n",
    "fig, ax = plt.subplots()\n",
    "sns.heatmap(cm, annot=True, fmt='d', ax=ax, cmap=plt.cm.Blues, \n",
    "            cbar=False)\n",
    "ax.set(xlabel=\"Pred\", ylabel=\"True\", xticklabels=classes, \n",
    "       yticklabels=classes, title=\"Confusion matrix\")\n",
    "plt.yticks(rotation=0)\n",
    "\n",
    "fig, ax = plt.subplots(nrows=1, ncols=2)\n",
    "## Plot roc\n",
    "# for i in range(len(classes)):\n",
    "#     fpr, tpr, thresholds = metrics.roc_curve(y_test_array[:,i],  \n",
    "#                            predicted_prob[:,i])\n",
    "#     ax[0].plot(fpr, tpr, lw=3, \n",
    "#               label='{0} (area={1:0.2f})'.format(classes[i], \n",
    "#                               metrics.auc(fpr, tpr))\n",
    "#                )\n",
    "# ax[0].plot([0,1], [0,1], color='navy', lw=3, linestyle='--')\n",
    "# ax[0].set(xlim=[-0.05,1.0], ylim=[0.0,1.05], \n",
    "#           xlabel='False Positive Rate', \n",
    "#           ylabel=\"True Positive Rate (Recall)\", \n",
    "#           title=\"Receiver operating characteristic\")\n",
    "# ax[0].legend(loc=\"lower right\")\n",
    "# ax[0].grid(True)\n",
    "    \n",
    "## Plot precision-recall curve\n",
    "for i in range(len(classes)):\n",
    "    precision, recall, thresholds = metrics.precision_recall_curve(\n",
    "                 y_test_array[:,i], predicted_prob[:,i])\n",
    "    ax[1].plot(recall, precision, lw=3, \n",
    "               label='{0} (area={1:0.2f})'.format(classes[i], \n",
    "                                  metrics.auc(recall, precision))\n",
    "              )\n",
    "ax[1].set(xlim=[0.0,1.05], ylim=[0.0,1.05], xlabel='Recall', \n",
    "          ylabel=\"Precision\", title=\"Precision-Recall curve\")\n",
    "ax[1].legend(loc=\"best\")\n",
    "ax[1].grid(True)\n",
    "plt.show()"
   ]
  },
  {
   "cell_type": "code",
   "execution_count": null,
   "metadata": {},
   "outputs": [],
   "source": []
  }
 ],
 "metadata": {
  "interpreter": {
   "hash": "82c9d3c6f533d5966083943ed34c12651019ba362b19cbef795d55b7acc843c1"
  },
  "kernelspec": {
   "display_name": "Python 3.9.6 ('venv': venv)",
   "language": "python",
   "name": "python3"
  },
  "language_info": {
   "codemirror_mode": {
    "name": "ipython",
    "version": 3
   },
   "file_extension": ".py",
   "mimetype": "text/x-python",
   "name": "python",
   "nbconvert_exporter": "python",
   "pygments_lexer": "ipython3",
   "version": "3.9.6"
  },
  "orig_nbformat": 4
 },
 "nbformat": 4,
 "nbformat_minor": 2
}
